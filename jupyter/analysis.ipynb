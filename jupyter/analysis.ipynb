{
 "cells": [
  {
   "cell_type": "markdown",
   "id": "97d81a89",
   "metadata": {},
   "source": [
    "# Analiza meteoritov in kraterjev"
   ]
  },
  {
   "cell_type": "markdown",
   "id": "843f6d2f",
   "metadata": {},
   "source": [
    "## Uvod\n",
    "V tem dokumentu bomo izvedli analizo podatkov o meteoritih in kraterjih z uporabo podatkov baze Mednarodnega društva za meteorite in planetarno znanost (https://www.lpi.usra.edu/meteor/metbull.php).\n",
    "Iskali bomo zanimive in uporabne povezave med podatki, ki so navedeni na prej omenjeni povezavi."
   ]
  },
  {
   "cell_type": "markdown",
   "id": "d944acc7",
   "metadata": {},
   "source": [
    "## Priprava okolja\n",
    "Najprej želimo pripraviti okolje, v katerem lahko podatke obdelujemo tako kot hočemo.\n",
    "To naredimo tako, da uvozimo željene knjižnice, ki nam bodo olajšale delo in pripravimo podatke za obdelavo."
   ]
  },
  {
   "cell_type": "markdown",
   "id": "5760a13d",
   "metadata": {},
   "source": [
    "#### Knjižnice\n",
    "Nenujne knjižnice (samo za lepši izgled):"
   ]
  },
  {
   "cell_type": "code",
   "execution_count": null,
   "id": "7ff0f5f7",
   "metadata": {},
   "outputs": [],
   "source": [
    "# Prettier tables\n",
    "from IPython.display import HTML"
   ]
  },
  {
   "cell_type": "markdown",
   "id": "35144b6d",
   "metadata": {},
   "source": [
    "Knjjižnice za obdelavo podatkov:"
   ]
  },
  {
   "cell_type": "code",
   "execution_count": null,
   "id": "fc944da5",
   "metadata": {},
   "outputs": [],
   "source": [
    "import pandas as pd\n",
    "import geopandas as gpd\n",
    "\n",
    "import matplotlib"
   ]
  },
  {
   "cell_type": "markdown",
   "id": "bb27d9d0",
   "metadata": {},
   "source": [
    "#### Uvoz podatkov\n",
    "Uvozimo podatke dobljene iz programa v pandas tabelo:"
   ]
  },
  {
   "cell_type": "code",
   "execution_count": null,
   "id": "2275cb06",
   "metadata": {},
   "outputs": [],
   "source": [
    "df = pd.read_json(\"../data/output.json\", precise_float=True)\n",
    "df.index.names = [\"id\"]"
   ]
  },
  {
   "cell_type": "markdown",
   "id": "d69744bd",
   "metadata": {},
   "source": [
    "Tabelo vseh podatkov uredimo po imenih po abecedi, kjer zanemarimo prednost velikih črk pred malimi."
   ]
  },
  {
   "cell_type": "code",
   "execution_count": null,
   "id": "8ca0d8d0",
   "metadata": {},
   "outputs": [],
   "source": [
    "df = df.sort_values(by=\"Name\", key=lambda col: col.str.lower())"
   ]
  },
  {
   "cell_type": "markdown",
   "id": "22f85123",
   "metadata": {},
   "source": [
    "Tabela vseh podatkov:"
   ]
  },
  {
   "cell_type": "code",
   "execution_count": null,
   "id": "289f664f",
   "metadata": {},
   "outputs": [],
   "source": [
    "df"
   ]
  },
  {
   "cell_type": "markdown",
   "id": "19de6fbe",
   "metadata": {},
   "source": [
    "#### Meteoriti\n",
    "Ločimo uradne meteorite od ostalih, saj nas zanimajo neketere lastnosti, ki jih imajo le meteoriti.\n",
    "Stolpec leto spremenimo v tip pd.Int64Dtype(), saj tabela ne vsebuje več kraterjev, ki imajo v stolpcu let podatke z decimalkami."
   ]
  },
  {
   "cell_type": "code",
   "execution_count": null,
   "id": "58ea5662",
   "metadata": {},
   "outputs": [],
   "source": [
    "met_df = df[df[\"Status\"] == \"Official\"]\n",
    "met_df = met_df.astype({ \"Year\": pd.Int64Dtype() })"
   ]
  },
  {
   "cell_type": "markdown",
   "id": "c109d5e2",
   "metadata": {},
   "source": [
    "Tabela vseh uradno priznanih meteoritov:"
   ]
  },
  {
   "cell_type": "code",
   "execution_count": null,
   "id": "a60cf28f",
   "metadata": {},
   "outputs": [],
   "source": [
    "met_df"
   ]
  },
  {
   "cell_type": "markdown",
   "id": "0776c388",
   "metadata": {},
   "source": [
    "#### Kraterji\n",
    "Ločimo uradne kraterje od ostalih, saj nas zanimajo nekatere lastnosti, ki jih imajo le kraterji.\n",
    "Prav tako preimenujemo stolpec let v starost, saj so podatki sestavljeni tako, da se starost kraterja vpiše pod leto."
   ]
  },
  {
   "cell_type": "code",
   "execution_count": null,
   "id": "1e7c72cf",
   "metadata": {},
   "outputs": [],
   "source": [
    "crt_df = df[df[\"Status\"] == \"Crater\"]\n",
    "crt_df = crt_df.rename(columns={ \"Year\": \"Age\" })"
   ]
  },
  {
   "cell_type": "markdown",
   "id": "ba2123f9",
   "metadata": {},
   "source": [
    "Tabela vseh uradno priznanih kraterjev:"
   ]
  },
  {
   "cell_type": "code",
   "execution_count": null,
   "id": "b8dfa2ac",
   "metadata": {},
   "outputs": [],
   "source": [
    "crt_df"
   ]
  },
  {
   "cell_type": "markdown",
   "id": "2e915c29",
   "metadata": {},
   "source": [
    "## Deset najboljših\n",
    "\n",
    "Pogledali si bomo deset najboljših vnosov po naslednjih kriterijih:\n",
    "* najtežji\n",
    "* najstarejši\n",
    "* najpogostejši tip\n",
    "* najpogostejše leto"
   ]
  },
  {
   "cell_type": "markdown",
   "id": "6717a2b5",
   "metadata": {},
   "source": [
    "#### Deset najtežjih meteoritov\n",
    "Iz tabele meteoritov izberemo stolpce, ki jih želimo prikazati in dobljene vrstice razvrstimo po masi.\n",
    "Potem lahko preberemo deset vrhnjih vrstic, kar bo predstavljalo naših deset najtežjih meteoritov.\n",
    "Na koncu podatke še preoblikujemo v bolj berljivo obliko."
   ]
  },
  {
   "cell_type": "code",
   "execution_count": null,
   "id": "f2539165",
   "metadata": {},
   "outputs": [],
   "source": [
    "top10_mass = met_df[[\"Name\", \"Year\", \"Place\", \"Mass\"]].sort_values(\"Mass\", ascending=False).head(10)\n",
    "top10_mass[\"Mass\"] = (top10_mass[\"Mass\"]/10**6).apply(lambda m: f\"{m} ton\")"
   ]
  },
  {
   "cell_type": "markdown",
   "id": "b7d1ff24",
   "metadata": {},
   "source": [
    "Povprečna masa meteorita v gramih:"
   ]
  },
  {
   "cell_type": "code",
   "execution_count": null,
   "id": "0f5075ec",
   "metadata": {},
   "outputs": [],
   "source": [
    "round(float(met_df[\"Mass\"][met_df[\"Mass\"].notna()].mean()), 3)"
   ]
  },
  {
   "cell_type": "markdown",
   "id": "ed24973d",
   "metadata": {},
   "source": [
    "Povprečen meteorit torej tehta približno 10 kg.\n",
    "\n",
    "Tabela desetih najtežjih meteoritov, s krajem in letom padca ter maso:"
   ]
  },
  {
   "cell_type": "code",
   "execution_count": null,
   "id": "454c0c02",
   "metadata": {},
   "outputs": [],
   "source": [
    "HTML(top10_mass.to_html(index=False))"
   ]
  },
  {
   "cell_type": "markdown",
   "id": "99d9d171",
   "metadata": {},
   "source": [
    "Vidimo, da je zgornja polovica tabela tudi več kot dvakrat težja od spodnje, kar pomeni, da so meteoriti takih velikosti zelo redek pojav.\n",
    "Le štirje presegajo mejo 50 ton.\n",
    "Osupljiv je tudi najtežji meteorit, ki tehta približno toliko kot 12 afriških slonov ali 37 dvotonskih avtomobilov.\n",
    "\n",
    "Vsi našteti meteoriti so torej 2000-krat do 7000-krat težji od povprečnega meteorita."
   ]
  },
  {
   "cell_type": "markdown",
   "id": "0f39caab",
   "metadata": {},
   "source": [
    "#### Deset najstarejših meteoritov in kraterjev\n",
    "Iz tabele meteoritov ali kraterjev izberemo stolpce, ki jih želimo prikazati in dobljene vrstice razvrstimo po letu oziroma starosti.\n",
    "Potem lahko preberemo deset vrhnjih vrstic, kar bo predstavljalo naših deset najstarejših meteoritov ali kraterjev.\n",
    "Na koncu podatke še preoblikujemo v bolj berljivo obliko."
   ]
  },
  {
   "cell_type": "code",
   "execution_count": null,
   "id": "e8249a94",
   "metadata": {},
   "outputs": [],
   "source": [
    "top10_met_age = met_df[[\"Name\", \"Place\", \"Year\"]].sort_values(\"Year\", ascending=True).head(10)\n",
    "top10_met_age[\"Year\"] = top10_met_age[\"Year\"].apply(lambda y: f\"{abs(y)} pr. n. št.\" if y < 0 else str(y))"
   ]
  },
  {
   "cell_type": "code",
   "execution_count": null,
   "id": "55cf3af5",
   "metadata": {},
   "outputs": [],
   "source": [
    "top10_crt_age = crt_df[[\"Name\", \"Place\", \"Age\"]].sort_values(\"Age\", ascending=False).head(10)\n",
    "top10_crt_age[\"Age\"] = (top10_crt_age[\"Age\"]/10**9).apply(lambda a: f\"{round(a, 1)} milijard let\")"
   ]
  },
  {
   "cell_type": "markdown",
   "id": "3cbb2046",
   "metadata": {},
   "source": [
    "Tabela desetih najstarejših meteoritov, s krajem in letom padca:"
   ]
  },
  {
   "cell_type": "code",
   "execution_count": null,
   "id": "92cddcc6",
   "metadata": {},
   "outputs": [],
   "source": [
    "HTML(top10_met_age.to_html(index=False))"
   ]
  },
  {
   "cell_type": "markdown",
   "id": "37ad945d",
   "metadata": {},
   "source": [
    "Kot bi lahko predvidevali, nam tabela razkrije, da meteoritov iz tisoč ali več let nazaj ni veliko, saj takrat teh dogodkov niso bili sposobni beležiti tako kot danes.\n",
    "Vselej pa najdemo kar tri meteorite iz časa pred našim štetjem in kar pet pred letom 1000.\n",
    "\n",
    "Tabela desetih najstarejših kraterjev, s krajem in starostjo:"
   ]
  },
  {
   "cell_type": "code",
   "execution_count": null,
   "id": "3fe5ed62",
   "metadata": {},
   "outputs": [],
   "source": [
    "HTML(top10_crt_age.to_html(index=False))"
   ]
  },
  {
   "cell_type": "markdown",
   "id": "00de0ef5",
   "metadata": {},
   "source": [
    "V tabeli očitno odstopa \"najstarejši\" krater med vsemi, saj je starejši od vesolja samega.\n",
    "Potrdimo lahko, da je to napaka v podatkovni bazi in ne v naših programih, saj je starost navedena kot 34759 Ma (Ma = mega-annum) ali 34759 milijonov let.\n",
    "\n",
    "Sicer pa lahko vidimo, da imamo kraterje, ki dosegajo starosti do polovice starosti Zemlje."
   ]
  },
  {
   "cell_type": "markdown",
   "id": "07934dcb",
   "metadata": {},
   "source": [
    "#### Deset najpogostejših tipov\n",
    "V tabeli meteoritov dobimo tabelo pojavitev vseh tipov meteorita, ki je že razvrščena po velikosti.\n",
    "Iz tega izberemo vrhnjih deset vrstic, kar bo predstavljalo naših deset najpogostejših tipov meteorita.\n",
    "Tabelo še preoblikujemo tako, da bo prikaz lepši."
   ]
  },
  {
   "cell_type": "code",
   "execution_count": null,
   "id": "c7b7d036",
   "metadata": {},
   "outputs": [],
   "source": [
    "top10_types = met_df[\"Type\"].value_counts().head(10)\n",
    "top10_types = top10_types.to_frame(name=\"Occurances\").reset_index()"
   ]
  },
  {
   "cell_type": "markdown",
   "id": "54fe0fe1",
   "metadata": {},
   "source": [
    "Legenda tipov meteoritov, ki so našteti v tabeli (več na: https://en.wikipedia.org/wiki/Chondrite):\n",
    "* LL\\<št.\\> - skupina \"low-iron, low-metal\"\n",
    "* L\\<št.\\> - skupina \"low-iron\"\n",
    "* H\\<št.\\> - skupina \"high-iron\"\n",
    "* \\<št.\\> - stopnja homogenosti meteorita\n",
    "\n",
    "Tabela desetih najpogostejših tipov meteoritov:"
   ]
  },
  {
   "cell_type": "code",
   "execution_count": null,
   "id": "3322d37f",
   "metadata": {},
   "outputs": [],
   "source": [
    "HTML(top10_types.to_html(index=False))"
   ]
  },
  {
   "cell_type": "markdown",
   "id": "3418370c",
   "metadata": {},
   "source": [
    "#### Deset najpogostejših let padca\n",
    "V tabeli meteoritov dobimo tabelo pojavitev vseh let, ki je že razvrščena po velikosti.\n",
    "Iz tega izberemo vrhnjih deset vrstic, kar bo predstavljalo naših deset najpogostejših let padca.\n",
    "Tabelo še preoblikujemo tako, da bo prikaz lepši."
   ]
  },
  {
   "cell_type": "code",
   "execution_count": null,
   "id": "29d95c3b",
   "metadata": {},
   "outputs": [],
   "source": [
    "top10_years = met_df[\"Year\"].value_counts().head(10)\n",
    "top10_years = top10_years.to_frame(name=\"Amount\").reset_index()"
   ]
  },
  {
   "cell_type": "markdown",
   "id": "b94f6ae4",
   "metadata": {},
   "source": [
    "Tabela desetih let z največ meteoriti:"
   ]
  },
  {
   "cell_type": "code",
   "execution_count": null,
   "id": "254fa88e",
   "metadata": {},
   "outputs": [],
   "source": [
    "HTML(top10_years.to_html(index=False))"
   ]
  },
  {
   "cell_type": "markdown",
   "id": "aaf23e40",
   "metadata": {},
   "source": [
    "Vidimo, da število meteoritov narašča skoraj naključno z naključnimi leti.\n",
    "Predvidevali bi lahko, da bodo imela poznejša leta več meteoritov zaradi boljših merskih sposobnosti, vendar so leta na seznamu povsem naključna in nobeno od njih ni v zadnjem desetletju."
   ]
  },
  {
   "cell_type": "markdown",
   "id": "80cd7dc9",
   "metadata": {},
   "source": [
    "## Grafični prikazi\n",
    "Pogledali bomo povezave med različnimi spremenljivkami z uporabo grafov."
   ]
  },
  {
   "cell_type": "markdown",
   "id": "016c42d7",
   "metadata": {},
   "source": [
    "#### Meteoriti in kraterji skozi čas\n",
    "Poskusimo narisati grafe števila meteoritov skozi zgodovino.\n",
    "Zaradi ponavljanja prehodno naredimo funkcijo, kateri podamo željene pogoje za risanje grafa."
   ]
  },
  {
   "cell_type": "code",
   "execution_count": null,
   "id": "611b5b4e",
   "metadata": {},
   "outputs": [],
   "source": [
    "def get_met_counts_min_year(min_year, decades=False):\n",
    "    col_min_year = met_df[met_df[\"Year\"] >= min_year][\"Year\"]\n",
    "\n",
    "    if decades:\n",
    "        col_min_year = (col_min_year//10)*10\n",
    "\n",
    "    return col_min_year.value_counts().sort_index()"
   ]
  },
  {
   "cell_type": "markdown",
   "id": "09b1c0a7",
   "metadata": {},
   "source": [
    "Graf števila padlih meteoritov v desetletju od leta 1700 dalje:"
   ]
  },
  {
   "cell_type": "code",
   "execution_count": null,
   "id": "9a9f7a42",
   "metadata": {},
   "outputs": [],
   "source": [
    "get_met_counts_min_year(1800, decades=True).plot.bar(xlabel=\"Decade\", ylabel=\"Amount\")"
   ]
  },
  {
   "cell_type": "markdown",
   "id": "61c6533a",
   "metadata": {},
   "source": [
    "Očitno je, da so skoraj vsi meteoriti v podatkovni bazi iz zadnjih 50 let, zato moramo časovno obdobje skrajšati, da dobimo boljšo predstavo.\n",
    "\n",
    "Graf števila padlih meteoritov v desetletju od leta 1950 dalje:"
   ]
  },
  {
   "cell_type": "code",
   "execution_count": null,
   "id": "497dbe02",
   "metadata": {},
   "outputs": [],
   "source": [
    "get_met_counts_min_year(1950, decades=True).plot.bar(xlabel=\"Decade\", ylabel=\"Amount\")"
   ]
  },
  {
   "cell_type": "markdown",
   "id": "7290abe0",
   "metadata": {},
   "source": [
    "Graf števila padlih meteoritov v letu od leta 1950 dalje:"
   ]
  },
  {
   "cell_type": "code",
   "execution_count": null,
   "id": "79b9cf81",
   "metadata": {},
   "outputs": [],
   "source": [
    "get_met_counts_min_year(1950, decades=False).plot(ylabel=\"Amount\")"
   ]
  },
  {
   "cell_type": "markdown",
   "id": "30562efc",
   "metadata": {},
   "source": [
    "Podatki delujejo zelo naključni, z zelo velikimi skoki in padci iz leta v leto.\n",
    "To bi lahko bila posledica, da ob prodoru meteorja v atmosfero ta ponavadi razpade na več manjših.\n",
    "Torej bi lahko ob padcu velikega meteorita, ki se razbije na tisoče delov graf močno poskočil.\n",
    "\n",
    "Ko pogledamo graf po desetletjih, zgleda ta že manj naključen, vendar še vedno vidimo velike razlike med desetletji.\n",
    "\n",
    "Če želimo obravnavati še kraterje, je potrebno prvo izločiti \"najstarejši\" krater, za keterega smo v prejšnjem poglavju odkrili, da je napaka v podatkovni bazi.\n",
    "Namesto, da ga odstranimo iz tabele, lahko najdemo raje naslednji najstarejši krater in tvorimo intervale po 200 milijonov let do njegove starosti.\n",
    "Potem vnosom v tabeli pripišemo interval in za konec intervale še preimenujemo, da se pojavijo lepše na grafu."
   ]
  },
  {
   "cell_type": "code",
   "execution_count": null,
   "id": "64e67f2d",
   "metadata": {},
   "outputs": [],
   "source": [
    "real_max = crt_df.drop(crt_df[\"Age\"].idxmax())[\"Age\"].max()\n",
    "intervals = pd.interval_range(start=0, end=real_max, freq=2*10**8, closed=\"left\")\n",
    "\n",
    "col_interval = pd.cut(crt_df[\"Age\"], bins=intervals, include_lowest=True).dropna()\n",
    "col_interval_trans = col_interval.apply(lambda i: f\"{int(i.left/10**6)} mil.\")"
   ]
  },
  {
   "cell_type": "markdown",
   "id": "3127f9dc",
   "metadata": {},
   "source": [
    "Graf števila kraterjev glede na starost:"
   ]
  },
  {
   "cell_type": "code",
   "execution_count": null,
   "id": "379e41f1",
   "metadata": {},
   "outputs": [],
   "source": [
    "col_interval_trans.value_counts().sort_index().plot.bar()"
   ]
  },
  {
   "cell_type": "markdown",
   "id": "8014c6fb",
   "metadata": {},
   "source": [
    "Očitno je, da se skoraj vsi kraterji nahajajo v starostnem razredu do 600 milijonov let.\n",
    "To je logično, saj starejše kot so naravne značilnosti, večje so možnosti, da so te do sedaj že izginile."
   ]
  },
  {
   "cell_type": "markdown",
   "id": "dcc93510",
   "metadata": {},
   "source": [
    "#### Povezave z maso meteorita\n",
    "Pogledali si bomo še različne povezave med maso meteorita in različnimi faktorji, ki bi nanjo lahko vplivali.\n",
    "Sprva si lahko pogledamo graf povprečne mase meteorita skozi leta, da vidimo, če najdemo velika odstopanja od povprečja.\n",
    "\n",
    "Dobimo ga tako, da sprva tabelo omejimo na časovno obdobje, kjer imamo več vnosov (npr. po 1900) in na podatke, ki nas zanimajo, tj. leto in masa.\n",
    "Potem lahko združimo vrstice glede na leto padca in izračunamo povprečno vrednost mase.\n",
    "Te podatke potem še pretvorimo v enote, ki nam najbolje pokažejo vrednosti, v tem primeru kilogrami."
   ]
  },
  {
   "cell_type": "code",
   "execution_count": null,
   "id": "9ad9cb78",
   "metadata": {},
   "outputs": [],
   "source": [
    "avg_mass_year = met_df[met_df[\"Year\"] > 1900][[\"Year\", \"Mass\"]].groupby(\"Year\").mean()/10**3"
   ]
  },
  {
   "cell_type": "markdown",
   "id": "50d095be",
   "metadata": {},
   "source": [
    "Graf povprečne mase meteorita skozi leta:"
   ]
  },
  {
   "cell_type": "code",
   "execution_count": null,
   "id": "b1da74e3",
   "metadata": {},
   "outputs": [],
   "source": [
    "avg_mass_year.plot(legend=False, ylabel=\"Mean mass [kg]\")"
   ]
  },
  {
   "cell_type": "markdown",
   "id": "538b14f6",
   "metadata": {},
   "source": [
    "Opazimo gromozanske skoke v povprečni masi meteorita.\n",
    "Te podatke lahko primerjamo s prej dobljeno tabelo najtežjih meteoritov.\n",
    "Opazimo lahko močno korelacijo, saj so leta 1911, 1920 in 1947 hkrati leta z vrhunci povprečne mase in leta, ko je padel eden od desetih najtežjih meteoritov.\n",
    "Predvsem odstopa leto 1920, ko je padel drugi največji meteorit in hkrati iz tega leta ni zelo veliko manjših meteoritov, ki bi povprečje znižali.\n",
    "\n",
    "Naslednje si lahko pogledamo povezavo med maso in tipom meteorita, da vidimo katere vrste meteorita so najtežje.\n",
    "\n",
    "To storimo podobno kot prej, kjer tabelo meteoritov omejimo na tip in maso in združimo vrstice glede na tip meteorita.\n",
    "Iz tega razberemo povprečne vrednosti mas in jih pretvorimo v kilograme.\n",
    "Pri risanju pa izberemo samo 20 največjih povprečnih mas, saj imamo tipov meteoritov preveč za en graf."
   ]
  },
  {
   "cell_type": "code",
   "execution_count": null,
   "id": "646e3650",
   "metadata": {},
   "outputs": [],
   "source": [
    "avg_mass_type = met_df[[\"Type\", \"Mass\"]].groupby(\"Type\").mean()/10**3"
   ]
  },
  {
   "cell_type": "markdown",
   "id": "1f040197",
   "metadata": {},
   "source": [
    "Graf dvajsetih tipov z največjo povprečno maso na tip:"
   ]
  },
  {
   "cell_type": "code",
   "execution_count": null,
   "id": "51a6eb8f",
   "metadata": {},
   "outputs": [],
   "source": [
    "avg_mass_type.sort_values(\"Mass\", ascending=False).head(20).plot.bar(legend=False, ylabel=\"Mean mass [kg]\")"
   ]
  },
  {
   "cell_type": "markdown",
   "id": "aa7c9336",
   "metadata": {},
   "source": [
    "Tukaj mogočno prevlada en tip meteorita \"Iron, IIIE-an\", kateremu z mnogo manjšima povprečnima masama sledita \"Iron, IVB\" in \"Iron, IAB Complex\".\n",
    "Ostali tipi meteoritov pa v primerjavi s temi skoraj ne obstajajo.\n",
    "\n",
    "Pogledamo lahko meteorite s temi tremi tipi in odkrijemo zakaj tako močno odstopajo.\n",
    "Napišemo pomožno funkcijo, ki vrne tabelo vseh meteoritov nekega tipa, urejeno po masi."
   ]
  },
  {
   "cell_type": "code",
   "execution_count": null,
   "id": "ad9b6690",
   "metadata": {},
   "outputs": [],
   "source": [
    "def get_table_of_type(met_type):\n",
    "    return met_df[met_df[\"Type\"] == met_type][[\"Name\", \"Type\", \"Mass\"]].sort_values(\"Mass\", ascending=False)"
   ]
  },
  {
   "cell_type": "markdown",
   "id": "0646e113",
   "metadata": {},
   "source": [
    "Tabela vseh meteoritov tipa \"Iron, IIIE-an\" urejena po masi:"
   ]
  },
  {
   "cell_type": "code",
   "execution_count": null,
   "id": "c40cafe3",
   "metadata": {},
   "outputs": [],
   "source": [
    "HTML(get_table_of_type(\"Iron, IIIE-an\").to_html(index=False))"
   ]
  },
  {
   "cell_type": "markdown",
   "id": "fa95472d",
   "metadata": {},
   "source": [
    "Tabela vseh meteoritov tipa \"Iron, IVB\" urejena po masi:"
   ]
  },
  {
   "cell_type": "code",
   "execution_count": null,
   "id": "89af9758",
   "metadata": {},
   "outputs": [],
   "source": [
    "HTML(get_table_of_type(\"Iron, IVB\").to_html(index=False))"
   ]
  },
  {
   "cell_type": "markdown",
   "id": "f8c225ac",
   "metadata": {},
   "source": [
    "Tabela vseh meteoritov tipa \"Iron, IAB Complex\" urejena po masi:"
   ]
  },
  {
   "cell_type": "code",
   "execution_count": null,
   "id": "251777e8",
   "metadata": {},
   "outputs": [],
   "source": [
    "HTML(get_table_of_type(\"Iron, IAB Complex\").to_html(index=False))"
   ]
  },
  {
   "cell_type": "markdown",
   "id": "bb52522a",
   "metadata": {},
   "source": [
    "Takoj lahko opazimo zakaj je prišlo do takšnih odstopanj.\n",
    "To so tipi najtežjih meteoritov, ki so zelo nepogosti.\n",
    "To pomeni, da bo povprečno vrednost bila odvisna večinoma samo od najtežjega meteorita zaradi gromozanske razlike v teži in majhne količine normalno velikih meteoritov."
   ]
  }
 ],
 "metadata": {
  "kernelspec": {
   "display_name": "Python 3 (ipykernel)",
   "language": "python",
   "name": "python3"
  },
  "language_info": {
   "codemirror_mode": {
    "name": "ipython",
    "version": 3
   },
   "file_extension": ".py",
   "mimetype": "text/x-python",
   "name": "python",
   "nbconvert_exporter": "python",
   "pygments_lexer": "ipython3",
   "version": "3.12.4"
  }
 },
 "nbformat": 4,
 "nbformat_minor": 5
}
