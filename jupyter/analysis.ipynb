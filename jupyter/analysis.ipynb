{
 "cells": [
  {
   "cell_type": "markdown",
   "id": "062d305b",
   "metadata": {},
   "source": [
    "# Analiza meteoritov in kraterjev"
   ]
  },
  {
   "cell_type": "markdown",
   "id": "8745a1f3",
   "metadata": {},
   "source": [
    "## Uvod\n",
    "V tem dokumentu bomo izvedli analizo podatkov o meteoritih in kraterjih z uporabo podatkov baze Mednarodnega društva za meteorite in planetarno znanost (https://www.lpi.usra.edu/meteor/metbull.php).\n",
    "Iskali bomo zanimive in uporabne povezave med podatki, ki so navedeni na prej omenjeni povezavi."
   ]
  },
  {
   "cell_type": "markdown",
   "id": "0c3d790d",
   "metadata": {},
   "source": [
    "## Priprava okolja\n",
    "Najprej želimo pripraviti okolje, v katerem lahko podatke obdelujemo tako kot hočemo.\n",
    "To naredimo tako, da uvozimo željene knjižnice, ki nam bodo olajšale delo in pripravimo podatke za obdelavo."
   ]
  },
  {
   "cell_type": "markdown",
   "id": "b6a33932",
   "metadata": {},
   "source": [
    "#### Knjižnice\n",
    "Nenujne knjižnice (samo za lepši izgled):"
   ]
  },
  {
   "cell_type": "code",
   "execution_count": 1,
   "id": "feaa234e",
   "metadata": {},
   "outputs": [],
   "source": [
    "# Prettier tables\n",
    "from IPython.display import HTML"
   ]
  },
  {
   "cell_type": "markdown",
   "id": "172fd5b8",
   "metadata": {},
   "source": [
    "Knjjižnice za obdelavo podatkov:"
   ]
  },
  {
   "cell_type": "code",
   "execution_count": 2,
   "id": "e2f924fe",
   "metadata": {
    "scrolled": false
   },
   "outputs": [],
   "source": [
    "import pandas as pd\n",
    "import geopandas as gpd\n",
    "\n",
    "import matplotlib"
   ]
  },
  {
   "cell_type": "markdown",
   "id": "2a190822",
   "metadata": {},
   "source": [
    "#### Uvoz podatkov\n",
    "Uvozimo podatke dobljene iz programa v pandas tabelo:"
   ]
  },
  {
   "cell_type": "code",
   "execution_count": 3,
   "id": "8c92017c",
   "metadata": {},
   "outputs": [],
   "source": [
    "df = pd.read_json(\"../data/output.json\", precise_float=True)\n",
    "df.index.names = [\"id\"]"
   ]
  },
  {
   "cell_type": "markdown",
   "id": "077d0794",
   "metadata": {},
   "source": [
    "Tabelo vseh podatkov uredimo po imenih po abecedi, kjer zanemarimo prednost velikih črk pred malimi."
   ]
  },
  {
   "cell_type": "code",
   "execution_count": 4,
   "id": "ddee258f",
   "metadata": {},
   "outputs": [],
   "source": [
    "df = df.sort_values(by=\"Name\", key=lambda col: col.str.lower())"
   ]
  },
  {
   "cell_type": "markdown",
   "id": "5dd5bba3",
   "metadata": {},
   "source": [
    "Tabela vseh podatkov:"
   ]
  },
  {
   "cell_type": "code",
   "execution_count": 5,
   "id": "a3ddcc99",
   "metadata": {},
   "outputs": [
    {
     "data": {
      "text/html": [
       "<div>\n",
       "<style scoped>\n",
       "    .dataframe tbody tr th:only-of-type {\n",
       "        vertical-align: middle;\n",
       "    }\n",
       "\n",
       "    .dataframe tbody tr th {\n",
       "        vertical-align: top;\n",
       "    }\n",
       "\n",
       "    .dataframe thead th {\n",
       "        text-align: right;\n",
       "    }\n",
       "</style>\n",
       "<table border=\"1\" class=\"dataframe\">\n",
       "  <thead>\n",
       "    <tr style=\"text-align: right;\">\n",
       "      <th></th>\n",
       "      <th>Name</th>\n",
       "      <th>Status</th>\n",
       "      <th>Year</th>\n",
       "      <th>Place</th>\n",
       "      <th>Type</th>\n",
       "      <th>Mass</th>\n",
       "      <th>MetBull</th>\n",
       "      <th>(Lat,Long)</th>\n",
       "      <th>Fall</th>\n",
       "      <th>Abbrev</th>\n",
       "      <th>Notes</th>\n",
       "      <th>Antarctic</th>\n",
       "    </tr>\n",
       "    <tr>\n",
       "      <th>id</th>\n",
       "      <th></th>\n",
       "      <th></th>\n",
       "      <th></th>\n",
       "      <th></th>\n",
       "      <th></th>\n",
       "      <th></th>\n",
       "      <th></th>\n",
       "      <th></th>\n",
       "      <th></th>\n",
       "      <th></th>\n",
       "      <th></th>\n",
       "      <th></th>\n",
       "    </tr>\n",
       "  </thead>\n",
       "  <tbody>\n",
       "    <tr>\n",
       "      <th>1</th>\n",
       "      <td>Aachen</td>\n",
       "      <td>Official</td>\n",
       "      <td>1880.0</td>\n",
       "      <td>Nordrhein-Westfalen, Germany</td>\n",
       "      <td>L5</td>\n",
       "      <td>21.0</td>\n",
       "      <td>78.0</td>\n",
       "      <td>[50.775, 6.08333]</td>\n",
       "      <td>Y</td>\n",
       "      <td>NaN</td>\n",
       "      <td>NaN</td>\n",
       "      <td>NaN</td>\n",
       "    </tr>\n",
       "    <tr>\n",
       "      <th>2</th>\n",
       "      <td>Aammiq</td>\n",
       "      <td>Official</td>\n",
       "      <td>2000.0</td>\n",
       "      <td>Al Biqa', Lebanon</td>\n",
       "      <td>H6</td>\n",
       "      <td>596.0</td>\n",
       "      <td>110.0</td>\n",
       "      <td>[33.7, 35.83333]</td>\n",
       "      <td>NaN</td>\n",
       "      <td>NaN</td>\n",
       "      <td>NaN</td>\n",
       "      <td>NaN</td>\n",
       "    </tr>\n",
       "    <tr>\n",
       "      <th>3</th>\n",
       "      <td>Aarhus</td>\n",
       "      <td>Official</td>\n",
       "      <td>1951.0</td>\n",
       "      <td>Region Midtjylland, Denmark</td>\n",
       "      <td>H6</td>\n",
       "      <td>720.0</td>\n",
       "      <td>8.0</td>\n",
       "      <td>[56.18333, 10.23333]</td>\n",
       "      <td>Y</td>\n",
       "      <td>NaN</td>\n",
       "      <td>NaN</td>\n",
       "      <td>NaN</td>\n",
       "    </tr>\n",
       "    <tr>\n",
       "      <th>4</th>\n",
       "      <td>Aba</td>\n",
       "      <td>Pseudo</td>\n",
       "      <td>1927.0</td>\n",
       "      <td>Kanto, Japan</td>\n",
       "      <td>Pseudometeorite</td>\n",
       "      <td>NaN</td>\n",
       "      <td>NaN</td>\n",
       "      <td>[35.95, 140.4]</td>\n",
       "      <td>NaN</td>\n",
       "      <td>NaN</td>\n",
       "      <td>NaN</td>\n",
       "      <td>NaN</td>\n",
       "    </tr>\n",
       "    <tr>\n",
       "      <th>5</th>\n",
       "      <td>Aba Panu</td>\n",
       "      <td>Official</td>\n",
       "      <td>2018.0</td>\n",
       "      <td>Oyo, Nigeria</td>\n",
       "      <td>L3</td>\n",
       "      <td>160000.0</td>\n",
       "      <td>107.0</td>\n",
       "      <td>[8.28218, 3.56714]</td>\n",
       "      <td>Yc</td>\n",
       "      <td>NaN</td>\n",
       "      <td>NaN</td>\n",
       "      <td>NaN</td>\n",
       "    </tr>\n",
       "    <tr>\n",
       "      <th>...</th>\n",
       "      <td>...</td>\n",
       "      <td>...</td>\n",
       "      <td>...</td>\n",
       "      <td>...</td>\n",
       "      <td>...</td>\n",
       "      <td>...</td>\n",
       "      <td>...</td>\n",
       "      <td>...</td>\n",
       "      <td>...</td>\n",
       "      <td>...</td>\n",
       "      <td>...</td>\n",
       "      <td>...</td>\n",
       "    </tr>\n",
       "    <tr>\n",
       "      <th>82858</th>\n",
       "      <td>Zomba</td>\n",
       "      <td>Official</td>\n",
       "      <td>1899.0</td>\n",
       "      <td>Southern, Malawi</td>\n",
       "      <td>L6</td>\n",
       "      <td>7500.0</td>\n",
       "      <td>NaN</td>\n",
       "      <td>[-15.18333, 35.28333]</td>\n",
       "      <td>Y</td>\n",
       "      <td>NaN</td>\n",
       "      <td>NaN</td>\n",
       "      <td>NaN</td>\n",
       "    </tr>\n",
       "    <tr>\n",
       "      <th>82859</th>\n",
       "      <td>Zsadany</td>\n",
       "      <td>Official</td>\n",
       "      <td>1875.0</td>\n",
       "      <td>Timis, Romania</td>\n",
       "      <td>H5</td>\n",
       "      <td>552.0</td>\n",
       "      <td>NaN</td>\n",
       "      <td>[45.916666, 21.216667]</td>\n",
       "      <td>Y</td>\n",
       "      <td>NaN</td>\n",
       "      <td>NaN</td>\n",
       "      <td>NaN</td>\n",
       "    </tr>\n",
       "    <tr>\n",
       "      <th>82860</th>\n",
       "      <td>Zubkovsky</td>\n",
       "      <td>Official</td>\n",
       "      <td>2003.0</td>\n",
       "      <td>Rostovskaya oblast', Russia</td>\n",
       "      <td>L6</td>\n",
       "      <td>2170.0</td>\n",
       "      <td>89.0</td>\n",
       "      <td>[49.78917, 41.5046]</td>\n",
       "      <td>NaN</td>\n",
       "      <td>NaN</td>\n",
       "      <td>NaN</td>\n",
       "      <td>NaN</td>\n",
       "    </tr>\n",
       "    <tr>\n",
       "      <th>82861</th>\n",
       "      <td>Zulu Queen</td>\n",
       "      <td>Official</td>\n",
       "      <td>1976.0</td>\n",
       "      <td>California, USA</td>\n",
       "      <td>L3.7</td>\n",
       "      <td>200.0</td>\n",
       "      <td>65.0</td>\n",
       "      <td>[33.98333, -115.68333]</td>\n",
       "      <td>NaN</td>\n",
       "      <td>NaN</td>\n",
       "      <td>NaN</td>\n",
       "      <td>NaN</td>\n",
       "    </tr>\n",
       "    <tr>\n",
       "      <th>82862</th>\n",
       "      <td>Zvonkov</td>\n",
       "      <td>Official</td>\n",
       "      <td>1955.0</td>\n",
       "      <td>Kiev, Ukraine</td>\n",
       "      <td>H6</td>\n",
       "      <td>2570.0</td>\n",
       "      <td>6.0</td>\n",
       "      <td>[50.2, 30.25]</td>\n",
       "      <td>Y</td>\n",
       "      <td>NaN</td>\n",
       "      <td>NaN</td>\n",
       "      <td>NaN</td>\n",
       "    </tr>\n",
       "  </tbody>\n",
       "</table>\n",
       "<p>82864 rows × 12 columns</p>\n",
       "</div>"
      ],
      "text/plain": [
       "             Name    Status    Year                         Place  \\\n",
       "id                                                                  \n",
       "1          Aachen  Official  1880.0  Nordrhein-Westfalen, Germany   \n",
       "2          Aammiq  Official  2000.0             Al Biqa', Lebanon   \n",
       "3          Aarhus  Official  1951.0   Region Midtjylland, Denmark   \n",
       "4             Aba    Pseudo  1927.0                  Kanto, Japan   \n",
       "5        Aba Panu  Official  2018.0                  Oyo, Nigeria   \n",
       "...           ...       ...     ...                           ...   \n",
       "82858       Zomba  Official  1899.0              Southern, Malawi   \n",
       "82859     Zsadany  Official  1875.0                Timis, Romania   \n",
       "82860   Zubkovsky  Official  2003.0   Rostovskaya oblast', Russia   \n",
       "82861  Zulu Queen  Official  1976.0               California, USA   \n",
       "82862     Zvonkov  Official  1955.0                 Kiev, Ukraine   \n",
       "\n",
       "                  Type      Mass  MetBull              (Lat,Long) Fall Abbrev  \\\n",
       "id                                                                              \n",
       "1                   L5      21.0     78.0       [50.775, 6.08333]    Y    NaN   \n",
       "2                   H6     596.0    110.0        [33.7, 35.83333]  NaN    NaN   \n",
       "3                   H6     720.0      8.0    [56.18333, 10.23333]    Y    NaN   \n",
       "4      Pseudometeorite       NaN      NaN          [35.95, 140.4]  NaN    NaN   \n",
       "5                   L3  160000.0    107.0      [8.28218, 3.56714]   Yc    NaN   \n",
       "...                ...       ...      ...                     ...  ...    ...   \n",
       "82858               L6    7500.0      NaN   [-15.18333, 35.28333]    Y    NaN   \n",
       "82859               H5     552.0      NaN  [45.916666, 21.216667]    Y    NaN   \n",
       "82860               L6    2170.0     89.0     [49.78917, 41.5046]  NaN    NaN   \n",
       "82861             L3.7     200.0     65.0  [33.98333, -115.68333]  NaN    NaN   \n",
       "82862               H6    2570.0      6.0           [50.2, 30.25]    Y    NaN   \n",
       "\n",
       "      Notes Antarctic  \n",
       "id                     \n",
       "1       NaN       NaN  \n",
       "2       NaN       NaN  \n",
       "3       NaN       NaN  \n",
       "4       NaN       NaN  \n",
       "5       NaN       NaN  \n",
       "...     ...       ...  \n",
       "82858   NaN       NaN  \n",
       "82859   NaN       NaN  \n",
       "82860   NaN       NaN  \n",
       "82861   NaN       NaN  \n",
       "82862   NaN       NaN  \n",
       "\n",
       "[82864 rows x 12 columns]"
      ]
     },
     "execution_count": 5,
     "metadata": {},
     "output_type": "execute_result"
    }
   ],
   "source": [
    "df"
   ]
  },
  {
   "cell_type": "markdown",
   "id": "9fe1365b",
   "metadata": {},
   "source": [
    "#### Meteoriti\n",
    "Ločimo uradne meteorite od ostalih, saj nas zanimajo neketere lastnosti, ki jih imajo le meteoriti.\n",
    "Stolpec leto spremenimo v tip pd.Int64Dtype(), saj tabela ne vsebuje več kraterjev, ki imajo v stolpcu let podatke z decimalkami."
   ]
  },
  {
   "cell_type": "code",
   "execution_count": 6,
   "id": "29f4f0f2",
   "metadata": {},
   "outputs": [],
   "source": [
    "met_df = df[df[\"Status\"] == \"Official\"]\n",
    "met_df = met_df.astype({ \"Year\": pd.Int64Dtype() })"
   ]
  },
  {
   "cell_type": "markdown",
   "id": "0c926162",
   "metadata": {},
   "source": [
    "Tabela vseh uradno priznanih meteoritov:"
   ]
  },
  {
   "cell_type": "code",
   "execution_count": 7,
   "id": "a9c800ae",
   "metadata": {},
   "outputs": [
    {
     "data": {
      "text/html": [
       "<div>\n",
       "<style scoped>\n",
       "    .dataframe tbody tr th:only-of-type {\n",
       "        vertical-align: middle;\n",
       "    }\n",
       "\n",
       "    .dataframe tbody tr th {\n",
       "        vertical-align: top;\n",
       "    }\n",
       "\n",
       "    .dataframe thead th {\n",
       "        text-align: right;\n",
       "    }\n",
       "</style>\n",
       "<table border=\"1\" class=\"dataframe\">\n",
       "  <thead>\n",
       "    <tr style=\"text-align: right;\">\n",
       "      <th></th>\n",
       "      <th>Name</th>\n",
       "      <th>Status</th>\n",
       "      <th>Year</th>\n",
       "      <th>Place</th>\n",
       "      <th>Type</th>\n",
       "      <th>Mass</th>\n",
       "      <th>MetBull</th>\n",
       "      <th>(Lat,Long)</th>\n",
       "      <th>Fall</th>\n",
       "      <th>Abbrev</th>\n",
       "      <th>Notes</th>\n",
       "      <th>Antarctic</th>\n",
       "    </tr>\n",
       "    <tr>\n",
       "      <th>id</th>\n",
       "      <th></th>\n",
       "      <th></th>\n",
       "      <th></th>\n",
       "      <th></th>\n",
       "      <th></th>\n",
       "      <th></th>\n",
       "      <th></th>\n",
       "      <th></th>\n",
       "      <th></th>\n",
       "      <th></th>\n",
       "      <th></th>\n",
       "      <th></th>\n",
       "    </tr>\n",
       "  </thead>\n",
       "  <tbody>\n",
       "    <tr>\n",
       "      <th>1</th>\n",
       "      <td>Aachen</td>\n",
       "      <td>Official</td>\n",
       "      <td>1880</td>\n",
       "      <td>Nordrhein-Westfalen, Germany</td>\n",
       "      <td>L5</td>\n",
       "      <td>21.0</td>\n",
       "      <td>78.0</td>\n",
       "      <td>[50.775, 6.08333]</td>\n",
       "      <td>Y</td>\n",
       "      <td>NaN</td>\n",
       "      <td>NaN</td>\n",
       "      <td>NaN</td>\n",
       "    </tr>\n",
       "    <tr>\n",
       "      <th>2</th>\n",
       "      <td>Aammiq</td>\n",
       "      <td>Official</td>\n",
       "      <td>2000</td>\n",
       "      <td>Al Biqa', Lebanon</td>\n",
       "      <td>H6</td>\n",
       "      <td>596.0</td>\n",
       "      <td>110.0</td>\n",
       "      <td>[33.7, 35.83333]</td>\n",
       "      <td>NaN</td>\n",
       "      <td>NaN</td>\n",
       "      <td>NaN</td>\n",
       "      <td>NaN</td>\n",
       "    </tr>\n",
       "    <tr>\n",
       "      <th>3</th>\n",
       "      <td>Aarhus</td>\n",
       "      <td>Official</td>\n",
       "      <td>1951</td>\n",
       "      <td>Region Midtjylland, Denmark</td>\n",
       "      <td>H6</td>\n",
       "      <td>720.0</td>\n",
       "      <td>8.0</td>\n",
       "      <td>[56.18333, 10.23333]</td>\n",
       "      <td>Y</td>\n",
       "      <td>NaN</td>\n",
       "      <td>NaN</td>\n",
       "      <td>NaN</td>\n",
       "    </tr>\n",
       "    <tr>\n",
       "      <th>5</th>\n",
       "      <td>Aba Panu</td>\n",
       "      <td>Official</td>\n",
       "      <td>2018</td>\n",
       "      <td>Oyo, Nigeria</td>\n",
       "      <td>L3</td>\n",
       "      <td>160000.0</td>\n",
       "      <td>107.0</td>\n",
       "      <td>[8.28218, 3.56714]</td>\n",
       "      <td>Yc</td>\n",
       "      <td>NaN</td>\n",
       "      <td>NaN</td>\n",
       "      <td>NaN</td>\n",
       "    </tr>\n",
       "    <tr>\n",
       "      <th>6</th>\n",
       "      <td>Abadla</td>\n",
       "      <td>Official</td>\n",
       "      <td>2015</td>\n",
       "      <td>Bechar, Algeria</td>\n",
       "      <td>Eucrite-cm</td>\n",
       "      <td>222.0</td>\n",
       "      <td>105.0</td>\n",
       "      <td>[30.93696, -2.71567]</td>\n",
       "      <td>NaN</td>\n",
       "      <td>NaN</td>\n",
       "      <td>NaN</td>\n",
       "      <td>NaN</td>\n",
       "    </tr>\n",
       "    <tr>\n",
       "      <th>...</th>\n",
       "      <td>...</td>\n",
       "      <td>...</td>\n",
       "      <td>...</td>\n",
       "      <td>...</td>\n",
       "      <td>...</td>\n",
       "      <td>...</td>\n",
       "      <td>...</td>\n",
       "      <td>...</td>\n",
       "      <td>...</td>\n",
       "      <td>...</td>\n",
       "      <td>...</td>\n",
       "      <td>...</td>\n",
       "    </tr>\n",
       "    <tr>\n",
       "      <th>82858</th>\n",
       "      <td>Zomba</td>\n",
       "      <td>Official</td>\n",
       "      <td>1899</td>\n",
       "      <td>Southern, Malawi</td>\n",
       "      <td>L6</td>\n",
       "      <td>7500.0</td>\n",
       "      <td>NaN</td>\n",
       "      <td>[-15.18333, 35.28333]</td>\n",
       "      <td>Y</td>\n",
       "      <td>NaN</td>\n",
       "      <td>NaN</td>\n",
       "      <td>NaN</td>\n",
       "    </tr>\n",
       "    <tr>\n",
       "      <th>82859</th>\n",
       "      <td>Zsadany</td>\n",
       "      <td>Official</td>\n",
       "      <td>1875</td>\n",
       "      <td>Timis, Romania</td>\n",
       "      <td>H5</td>\n",
       "      <td>552.0</td>\n",
       "      <td>NaN</td>\n",
       "      <td>[45.916666, 21.216667]</td>\n",
       "      <td>Y</td>\n",
       "      <td>NaN</td>\n",
       "      <td>NaN</td>\n",
       "      <td>NaN</td>\n",
       "    </tr>\n",
       "    <tr>\n",
       "      <th>82860</th>\n",
       "      <td>Zubkovsky</td>\n",
       "      <td>Official</td>\n",
       "      <td>2003</td>\n",
       "      <td>Rostovskaya oblast', Russia</td>\n",
       "      <td>L6</td>\n",
       "      <td>2170.0</td>\n",
       "      <td>89.0</td>\n",
       "      <td>[49.78917, 41.5046]</td>\n",
       "      <td>NaN</td>\n",
       "      <td>NaN</td>\n",
       "      <td>NaN</td>\n",
       "      <td>NaN</td>\n",
       "    </tr>\n",
       "    <tr>\n",
       "      <th>82861</th>\n",
       "      <td>Zulu Queen</td>\n",
       "      <td>Official</td>\n",
       "      <td>1976</td>\n",
       "      <td>California, USA</td>\n",
       "      <td>L3.7</td>\n",
       "      <td>200.0</td>\n",
       "      <td>65.0</td>\n",
       "      <td>[33.98333, -115.68333]</td>\n",
       "      <td>NaN</td>\n",
       "      <td>NaN</td>\n",
       "      <td>NaN</td>\n",
       "      <td>NaN</td>\n",
       "    </tr>\n",
       "    <tr>\n",
       "      <th>82862</th>\n",
       "      <td>Zvonkov</td>\n",
       "      <td>Official</td>\n",
       "      <td>1955</td>\n",
       "      <td>Kiev, Ukraine</td>\n",
       "      <td>H6</td>\n",
       "      <td>2570.0</td>\n",
       "      <td>6.0</td>\n",
       "      <td>[50.2, 30.25]</td>\n",
       "      <td>Y</td>\n",
       "      <td>NaN</td>\n",
       "      <td>NaN</td>\n",
       "      <td>NaN</td>\n",
       "    </tr>\n",
       "  </tbody>\n",
       "</table>\n",
       "<p>75598 rows × 12 columns</p>\n",
       "</div>"
      ],
      "text/plain": [
       "             Name    Status  Year                         Place        Type  \\\n",
       "id                                                                            \n",
       "1          Aachen  Official  1880  Nordrhein-Westfalen, Germany          L5   \n",
       "2          Aammiq  Official  2000             Al Biqa', Lebanon          H6   \n",
       "3          Aarhus  Official  1951   Region Midtjylland, Denmark          H6   \n",
       "5        Aba Panu  Official  2018                  Oyo, Nigeria          L3   \n",
       "6          Abadla  Official  2015               Bechar, Algeria  Eucrite-cm   \n",
       "...           ...       ...   ...                           ...         ...   \n",
       "82858       Zomba  Official  1899              Southern, Malawi          L6   \n",
       "82859     Zsadany  Official  1875                Timis, Romania          H5   \n",
       "82860   Zubkovsky  Official  2003   Rostovskaya oblast', Russia          L6   \n",
       "82861  Zulu Queen  Official  1976               California, USA        L3.7   \n",
       "82862     Zvonkov  Official  1955                 Kiev, Ukraine          H6   \n",
       "\n",
       "           Mass  MetBull              (Lat,Long) Fall Abbrev Notes Antarctic  \n",
       "id                                                                            \n",
       "1          21.0     78.0       [50.775, 6.08333]    Y    NaN   NaN       NaN  \n",
       "2         596.0    110.0        [33.7, 35.83333]  NaN    NaN   NaN       NaN  \n",
       "3         720.0      8.0    [56.18333, 10.23333]    Y    NaN   NaN       NaN  \n",
       "5      160000.0    107.0      [8.28218, 3.56714]   Yc    NaN   NaN       NaN  \n",
       "6         222.0    105.0    [30.93696, -2.71567]  NaN    NaN   NaN       NaN  \n",
       "...         ...      ...                     ...  ...    ...   ...       ...  \n",
       "82858    7500.0      NaN   [-15.18333, 35.28333]    Y    NaN   NaN       NaN  \n",
       "82859     552.0      NaN  [45.916666, 21.216667]    Y    NaN   NaN       NaN  \n",
       "82860    2170.0     89.0     [49.78917, 41.5046]  NaN    NaN   NaN       NaN  \n",
       "82861     200.0     65.0  [33.98333, -115.68333]  NaN    NaN   NaN       NaN  \n",
       "82862    2570.0      6.0           [50.2, 30.25]    Y    NaN   NaN       NaN  \n",
       "\n",
       "[75598 rows x 12 columns]"
      ]
     },
     "execution_count": 7,
     "metadata": {},
     "output_type": "execute_result"
    }
   ],
   "source": [
    "met_df"
   ]
  },
  {
   "cell_type": "markdown",
   "id": "4dd5ff86",
   "metadata": {},
   "source": [
    "#### Kraterji\n",
    "Ločimo uradne kraterje od ostalih, saj nas zanimajo nekatere lastnosti, ki jih imajo le kraterji.\n",
    "Prav tako preimenujemo stolpec let v starost, saj so podatki sestavljeni tako, da se starost kraterja vpiše pod leto."
   ]
  },
  {
   "cell_type": "code",
   "execution_count": 8,
   "id": "12d43b14",
   "metadata": {},
   "outputs": [],
   "source": [
    "crt_df = df[df[\"Status\"] == \"Crater\"]\n",
    "crt_df = crt_df.rename(columns={ \"Year\": \"Age\" })"
   ]
  },
  {
   "cell_type": "markdown",
   "id": "d322355f",
   "metadata": {},
   "source": [
    "Tabela vseh uradno priznanih kraterjev:"
   ]
  },
  {
   "cell_type": "code",
   "execution_count": 9,
   "id": "f57649a9",
   "metadata": {},
   "outputs": [
    {
     "data": {
      "text/html": [
       "<div>\n",
       "<style scoped>\n",
       "    .dataframe tbody tr th:only-of-type {\n",
       "        vertical-align: middle;\n",
       "    }\n",
       "\n",
       "    .dataframe tbody tr th {\n",
       "        vertical-align: top;\n",
       "    }\n",
       "\n",
       "    .dataframe thead th {\n",
       "        text-align: right;\n",
       "    }\n",
       "</style>\n",
       "<table border=\"1\" class=\"dataframe\">\n",
       "  <thead>\n",
       "    <tr style=\"text-align: right;\">\n",
       "      <th></th>\n",
       "      <th>Name</th>\n",
       "      <th>Status</th>\n",
       "      <th>Age</th>\n",
       "      <th>Place</th>\n",
       "      <th>Type</th>\n",
       "      <th>Mass</th>\n",
       "      <th>MetBull</th>\n",
       "      <th>(Lat,Long)</th>\n",
       "      <th>Fall</th>\n",
       "      <th>Abbrev</th>\n",
       "      <th>Notes</th>\n",
       "      <th>Antarctic</th>\n",
       "    </tr>\n",
       "    <tr>\n",
       "      <th>id</th>\n",
       "      <th></th>\n",
       "      <th></th>\n",
       "      <th></th>\n",
       "      <th></th>\n",
       "      <th></th>\n",
       "      <th></th>\n",
       "      <th></th>\n",
       "      <th></th>\n",
       "      <th></th>\n",
       "      <th></th>\n",
       "      <th></th>\n",
       "      <th></th>\n",
       "    </tr>\n",
       "  </thead>\n",
       "  <tbody>\n",
       "    <tr>\n",
       "      <th>476</th>\n",
       "      <td>Acraman</td>\n",
       "      <td>Crater</td>\n",
       "      <td>5.900000e+08</td>\n",
       "      <td>South Australia, Australia</td>\n",
       "      <td>Impact Crater</td>\n",
       "      <td>NaN</td>\n",
       "      <td>NaN</td>\n",
       "      <td>[-32.01667, 135.45]</td>\n",
       "      <td>NaN</td>\n",
       "      <td>NaN</td>\n",
       "      <td>From EIDB</td>\n",
       "      <td>NaN</td>\n",
       "    </tr>\n",
       "    <tr>\n",
       "      <th>523</th>\n",
       "      <td>Agoudal [crater]</td>\n",
       "      <td>Crater</td>\n",
       "      <td>1.050000e+05</td>\n",
       "      <td>Centre-South, Morocco</td>\n",
       "      <td>Impact Crater</td>\n",
       "      <td>NaN</td>\n",
       "      <td>NaN</td>\n",
       "      <td>[31.98333, -5.5]</td>\n",
       "      <td>NaN</td>\n",
       "      <td>NaN</td>\n",
       "      <td>From EIDB</td>\n",
       "      <td>NaN</td>\n",
       "    </tr>\n",
       "    <tr>\n",
       "      <th>2649</th>\n",
       "      <td>Amelia Creek</td>\n",
       "      <td>Crater</td>\n",
       "      <td>1.640000e+09</td>\n",
       "      <td>Northern Territory, Australia</td>\n",
       "      <td>Impact Crater</td>\n",
       "      <td>NaN</td>\n",
       "      <td>NaN</td>\n",
       "      <td>[-20.916667, 134.833333]</td>\n",
       "      <td>NaN</td>\n",
       "      <td>NaN</td>\n",
       "      <td>From EIDB</td>\n",
       "      <td>NaN</td>\n",
       "    </tr>\n",
       "    <tr>\n",
       "      <th>2650</th>\n",
       "      <td>Ames</td>\n",
       "      <td>Crater</td>\n",
       "      <td>4.700000e+08</td>\n",
       "      <td>Oklahoma, USA</td>\n",
       "      <td>Impact Crater</td>\n",
       "      <td>NaN</td>\n",
       "      <td>NaN</td>\n",
       "      <td>[36.25, -98.2]</td>\n",
       "      <td>NaN</td>\n",
       "      <td>NaN</td>\n",
       "      <td>From EIDB</td>\n",
       "      <td>NaN</td>\n",
       "    </tr>\n",
       "    <tr>\n",
       "      <th>2652</th>\n",
       "      <td>Amguid</td>\n",
       "      <td>Crater</td>\n",
       "      <td>1.000000e+05</td>\n",
       "      <td>Tamanghasset, Algeria</td>\n",
       "      <td>Impact Crater</td>\n",
       "      <td>NaN</td>\n",
       "      <td>NaN</td>\n",
       "      <td>[26.087481, 4.395056]</td>\n",
       "      <td>NaN</td>\n",
       "      <td>NaN</td>\n",
       "      <td>From EIDB</td>\n",
       "      <td>NaN</td>\n",
       "    </tr>\n",
       "    <tr>\n",
       "      <th>...</th>\n",
       "      <td>...</td>\n",
       "      <td>...</td>\n",
       "      <td>...</td>\n",
       "      <td>...</td>\n",
       "      <td>...</td>\n",
       "      <td>...</td>\n",
       "      <td>...</td>\n",
       "      <td>...</td>\n",
       "      <td>...</td>\n",
       "      <td>...</td>\n",
       "      <td>...</td>\n",
       "      <td>...</td>\n",
       "    </tr>\n",
       "    <tr>\n",
       "      <th>68969</th>\n",
       "      <td>Xiuyan</td>\n",
       "      <td>Crater</td>\n",
       "      <td>5.000000e+04</td>\n",
       "      <td>Liaoning, China</td>\n",
       "      <td>Impact Crater</td>\n",
       "      <td>NaN</td>\n",
       "      <td>NaN</td>\n",
       "      <td>[40.35, 123.45]</td>\n",
       "      <td>NaN</td>\n",
       "      <td>NaN</td>\n",
       "      <td>From EIDB</td>\n",
       "      <td>NaN</td>\n",
       "    </tr>\n",
       "    <tr>\n",
       "      <th>82715</th>\n",
       "      <td>Yarrabubba</td>\n",
       "      <td>Crater</td>\n",
       "      <td>2.000000e+09</td>\n",
       "      <td>Western Australia, Australia</td>\n",
       "      <td>Impact Crater</td>\n",
       "      <td>NaN</td>\n",
       "      <td>NaN</td>\n",
       "      <td>[-27.16667, 118.83333]</td>\n",
       "      <td>NaN</td>\n",
       "      <td>NaN</td>\n",
       "      <td>From EIDB</td>\n",
       "      <td>NaN</td>\n",
       "    </tr>\n",
       "    <tr>\n",
       "      <th>82824</th>\n",
       "      <td>Zapadnaya</td>\n",
       "      <td>Crater</td>\n",
       "      <td>1.650000e+08</td>\n",
       "      <td>Zhitomir, Ukraine</td>\n",
       "      <td>Impact Crater</td>\n",
       "      <td>NaN</td>\n",
       "      <td>NaN</td>\n",
       "      <td>[49.73333, 29.0]</td>\n",
       "      <td>NaN</td>\n",
       "      <td>NaN</td>\n",
       "      <td>From EIDB</td>\n",
       "      <td>NaN</td>\n",
       "    </tr>\n",
       "    <tr>\n",
       "      <th>82834</th>\n",
       "      <td>Zeleny Gai</td>\n",
       "      <td>Crater</td>\n",
       "      <td>8.000000e+07</td>\n",
       "      <td>Kirovograd, Ukraine</td>\n",
       "      <td>Impact Crater</td>\n",
       "      <td>NaN</td>\n",
       "      <td>NaN</td>\n",
       "      <td>[48.06667, 32.75]</td>\n",
       "      <td>NaN</td>\n",
       "      <td>NaN</td>\n",
       "      <td>From EIDB</td>\n",
       "      <td>NaN</td>\n",
       "    </tr>\n",
       "    <tr>\n",
       "      <th>82843</th>\n",
       "      <td>Zhamanshin</td>\n",
       "      <td>Crater</td>\n",
       "      <td>9.000000e+05</td>\n",
       "      <td>Aktyubinsk, Kazakhstan</td>\n",
       "      <td>Impact Crater</td>\n",
       "      <td>NaN</td>\n",
       "      <td>NaN</td>\n",
       "      <td>[48.4, 60.96667]</td>\n",
       "      <td>NaN</td>\n",
       "      <td>NaN</td>\n",
       "      <td>From EIDB</td>\n",
       "      <td>NaN</td>\n",
       "    </tr>\n",
       "  </tbody>\n",
       "</table>\n",
       "<p>190 rows × 12 columns</p>\n",
       "</div>"
      ],
      "text/plain": [
       "                   Name  Status           Age                          Place  \\\n",
       "id                                                                             \n",
       "476             Acraman  Crater  5.900000e+08     South Australia, Australia   \n",
       "523    Agoudal [crater]  Crater  1.050000e+05          Centre-South, Morocco   \n",
       "2649       Amelia Creek  Crater  1.640000e+09  Northern Territory, Australia   \n",
       "2650               Ames  Crater  4.700000e+08                  Oklahoma, USA   \n",
       "2652             Amguid  Crater  1.000000e+05          Tamanghasset, Algeria   \n",
       "...                 ...     ...           ...                            ...   \n",
       "68969            Xiuyan  Crater  5.000000e+04                Liaoning, China   \n",
       "82715        Yarrabubba  Crater  2.000000e+09   Western Australia, Australia   \n",
       "82824         Zapadnaya  Crater  1.650000e+08              Zhitomir, Ukraine   \n",
       "82834        Zeleny Gai  Crater  8.000000e+07            Kirovograd, Ukraine   \n",
       "82843        Zhamanshin  Crater  9.000000e+05         Aktyubinsk, Kazakhstan   \n",
       "\n",
       "                Type  Mass  MetBull                (Lat,Long) Fall Abbrev  \\\n",
       "id                                                                          \n",
       "476    Impact Crater   NaN      NaN       [-32.01667, 135.45]  NaN    NaN   \n",
       "523    Impact Crater   NaN      NaN          [31.98333, -5.5]  NaN    NaN   \n",
       "2649   Impact Crater   NaN      NaN  [-20.916667, 134.833333]  NaN    NaN   \n",
       "2650   Impact Crater   NaN      NaN            [36.25, -98.2]  NaN    NaN   \n",
       "2652   Impact Crater   NaN      NaN     [26.087481, 4.395056]  NaN    NaN   \n",
       "...              ...   ...      ...                       ...  ...    ...   \n",
       "68969  Impact Crater   NaN      NaN           [40.35, 123.45]  NaN    NaN   \n",
       "82715  Impact Crater   NaN      NaN    [-27.16667, 118.83333]  NaN    NaN   \n",
       "82824  Impact Crater   NaN      NaN          [49.73333, 29.0]  NaN    NaN   \n",
       "82834  Impact Crater   NaN      NaN         [48.06667, 32.75]  NaN    NaN   \n",
       "82843  Impact Crater   NaN      NaN          [48.4, 60.96667]  NaN    NaN   \n",
       "\n",
       "           Notes Antarctic  \n",
       "id                          \n",
       "476    From EIDB       NaN  \n",
       "523    From EIDB       NaN  \n",
       "2649   From EIDB       NaN  \n",
       "2650   From EIDB       NaN  \n",
       "2652   From EIDB       NaN  \n",
       "...          ...       ...  \n",
       "68969  From EIDB       NaN  \n",
       "82715  From EIDB       NaN  \n",
       "82824  From EIDB       NaN  \n",
       "82834  From EIDB       NaN  \n",
       "82843  From EIDB       NaN  \n",
       "\n",
       "[190 rows x 12 columns]"
      ]
     },
     "execution_count": 9,
     "metadata": {},
     "output_type": "execute_result"
    }
   ],
   "source": [
    "crt_df"
   ]
  },
  {
   "cell_type": "markdown",
   "id": "0ed8d216",
   "metadata": {},
   "source": [
    "## Deset najboljših\n",
    "\n",
    "Pogledali si bomo deset najboljših vnosov po naslednjih kriterijih:\n",
    "* najtežji\n",
    "* najstarejši\n",
    "* najpogostejši tip\n",
    "* najpogostejše leto"
   ]
  },
  {
   "cell_type": "markdown",
   "id": "8efa762f",
   "metadata": {},
   "source": [
    "#### Deset najtežjih meteoritov\n",
    "Iz tabele meteoritov izberemo stolpce, ki jih želimo prikazati in dobljene vrstice razvrstimo po masi.\n",
    "Potem lahko preberemo deset vrhnjih vrstic, kar bo predstavljalo naših deset najtežjih meteoritov.\n",
    "Na koncu podatke še preoblikujemo v bolj berljivo obliko."
   ]
  },
  {
   "cell_type": "code",
   "execution_count": 10,
   "id": "2ea1efc5",
   "metadata": {},
   "outputs": [],
   "source": [
    "top10_mass = met_df[[\"Name\", \"Year\", \"Place\", \"Mass\"]].sort_values(\"Mass\", ascending=False).head(10)\n",
    "top10_mass[\"Mass\"] = (top10_mass[\"Mass\"]/10**6).apply(lambda m: f\"{m} ton\")"
   ]
  },
  {
   "cell_type": "markdown",
   "id": "96443cd0",
   "metadata": {},
   "source": [
    "Povprečna masa meteorita v gramih:"
   ]
  },
  {
   "cell_type": "code",
   "execution_count": 11,
   "id": "6a3fc98f",
   "metadata": {},
   "outputs": [
    {
     "data": {
      "text/plain": [
       "9503.334"
      ]
     },
     "execution_count": 11,
     "metadata": {},
     "output_type": "execute_result"
    }
   ],
   "source": [
    "round(float(met_df[\"Mass\"][met_df[\"Mass\"].notna()].mean()), 3)"
   ]
  },
  {
   "cell_type": "markdown",
   "id": "8fbf2658",
   "metadata": {},
   "source": [
    "Povprečen meteorit torej tehta približno 10 kg.\n",
    "\n",
    "Tabela desetih najtežjih meteoritov, s krajem in letom padca ter maso:"
   ]
  },
  {
   "cell_type": "code",
   "execution_count": 12,
   "id": "9bda5b7a",
   "metadata": {},
   "outputs": [
    {
     "data": {
      "text/html": [
       "<table border=\"1\" class=\"dataframe\">\n",
       "  <thead>\n",
       "    <tr style=\"text-align: right;\">\n",
       "      <th>Name</th>\n",
       "      <th>Year</th>\n",
       "      <th>Place</th>\n",
       "      <th>Mass</th>\n",
       "    </tr>\n",
       "  </thead>\n",
       "  <tbody>\n",
       "    <tr>\n",
       "      <td>Aletai</td>\n",
       "      <td>1898</td>\n",
       "      <td>Xinjiang, China</td>\n",
       "      <td>74.0 ton</td>\n",
       "    </tr>\n",
       "    <tr>\n",
       "      <td>Hoba</td>\n",
       "      <td>1920</td>\n",
       "      <td>Grootfontein, Namibia</td>\n",
       "      <td>60.0 ton</td>\n",
       "    </tr>\n",
       "    <tr>\n",
       "      <td>Cape York</td>\n",
       "      <td>1818</td>\n",
       "      <td>Nordgronland, Greenland</td>\n",
       "      <td>58.2 ton</td>\n",
       "    </tr>\n",
       "    <tr>\n",
       "      <td>Campo del Cielo</td>\n",
       "      <td>1576</td>\n",
       "      <td>Chaco, Argentina</td>\n",
       "      <td>50.0 ton</td>\n",
       "    </tr>\n",
       "    <tr>\n",
       "      <td>Canyon Diablo</td>\n",
       "      <td>1891</td>\n",
       "      <td>Arizona, USA</td>\n",
       "      <td>30.0 ton</td>\n",
       "    </tr>\n",
       "    <tr>\n",
       "      <td>Gibeon</td>\n",
       "      <td>1836</td>\n",
       "      <td>Namaland, Namibia</td>\n",
       "      <td>26.0 ton</td>\n",
       "    </tr>\n",
       "    <tr>\n",
       "      <td>Chupaderos</td>\n",
       "      <td>1852</td>\n",
       "      <td>Chihuahua, Mexico</td>\n",
       "      <td>24.3 ton</td>\n",
       "    </tr>\n",
       "    <tr>\n",
       "      <td>Mundrabilla</td>\n",
       "      <td>1911</td>\n",
       "      <td>Western Australia, Australia</td>\n",
       "      <td>24.0 ton</td>\n",
       "    </tr>\n",
       "    <tr>\n",
       "      <td>Sikhote-Alin</td>\n",
       "      <td>1947</td>\n",
       "      <td>Primorskiy kray, Russia</td>\n",
       "      <td>23.0 ton</td>\n",
       "    </tr>\n",
       "    <tr>\n",
       "      <td>Bacubirito</td>\n",
       "      <td>1863</td>\n",
       "      <td>Sinaloa, Mexico</td>\n",
       "      <td>22.0 ton</td>\n",
       "    </tr>\n",
       "  </tbody>\n",
       "</table>"
      ],
      "text/plain": [
       "<IPython.core.display.HTML object>"
      ]
     },
     "execution_count": 12,
     "metadata": {},
     "output_type": "execute_result"
    }
   ],
   "source": [
    "HTML(top10_mass.to_html(index=False))"
   ]
  },
  {
   "cell_type": "markdown",
   "id": "85a66008",
   "metadata": {},
   "source": [
    "Vidimo, da je zgornja polovica tabela tudi več kot dvakrat težja od spodnje, kar pomeni, da so meteoriti takih velikosti zelo redek pojav.\n",
    "Le štirje presegajo mejo 50 ton.\n",
    "Osupljiv je tudi najtežji meteorit, ki tehta približno toliko kot 12 afriških slonov ali 37 dvotonskih avtomobilov.\n",
    "\n",
    "Vsi našteti meteoriti so torej 2000-krat do 7000-krat težji od povprečnega meteorita."
   ]
  },
  {
   "cell_type": "markdown",
   "id": "cea97c51",
   "metadata": {},
   "source": [
    "#### Deset najstarejših meteoritov in kraterjev\n",
    "Iz tabele meteoritov ali kraterjev izberemo stolpce, ki jih želimo prikazati in dobljene vrstice razvrstimo po letu oziroma starosti.\n",
    "Potem lahko preberemo deset vrhnjih vrstic, kar bo predstavljalo naših deset najstarejših meteoritov ali kraterjev.\n",
    "Na koncu podatke še preoblikujemo v bolj berljivo obliko."
   ]
  },
  {
   "cell_type": "code",
   "execution_count": 13,
   "id": "8bf34f86",
   "metadata": {},
   "outputs": [],
   "source": [
    "top10_met_age = met_df[[\"Name\", \"Place\", \"Year\"]].sort_values(\"Year\", ascending=True).head(10)\n",
    "top10_met_age[\"Year\"] = top10_met_age[\"Year\"].apply(lambda y: f\"{abs(y)} pr. n. št.\" if y < 0 else str(y))"
   ]
  },
  {
   "cell_type": "code",
   "execution_count": 14,
   "id": "f1aefdf4",
   "metadata": {},
   "outputs": [],
   "source": [
    "top10_crt_age = crt_df[[\"Name\", \"Place\", \"Age\"]].sort_values(\"Age\", ascending=False).head(10)\n",
    "top10_crt_age[\"Age\"] = (top10_crt_age[\"Age\"]/10**9).apply(lambda a: f\"{round(a, 1)} milijard let\")"
   ]
  },
  {
   "cell_type": "markdown",
   "id": "cfc4796c",
   "metadata": {},
   "source": [
    "Tabela desetih najstarejših meteoritov, s krajem in letom padca:"
   ]
  },
  {
   "cell_type": "code",
   "execution_count": 15,
   "id": "f622088a",
   "metadata": {},
   "outputs": [
    {
     "data": {
      "text/html": [
       "<table border=\"1\" class=\"dataframe\">\n",
       "  <thead>\n",
       "    <tr style=\"text-align: right;\">\n",
       "      <th>Name</th>\n",
       "      <th>Place</th>\n",
       "      <th>Year</th>\n",
       "    </tr>\n",
       "  </thead>\n",
       "  <tbody>\n",
       "    <tr>\n",
       "      <td>Ur</td>\n",
       "      <td>Dhi Qar, Iraq</td>\n",
       "      <td>2500 pr. n. št.</td>\n",
       "    </tr>\n",
       "    <tr>\n",
       "      <td>Wietrzno-Bobrka</td>\n",
       "      <td>Krosno, Poland</td>\n",
       "      <td>600 pr. n. št.</td>\n",
       "    </tr>\n",
       "    <tr>\n",
       "      <td>Havana</td>\n",
       "      <td>Illinois, USA</td>\n",
       "      <td>300 pr. n. št.</td>\n",
       "    </tr>\n",
       "    <tr>\n",
       "      <td>Nogata</td>\n",
       "      <td>Kyushu, Japan</td>\n",
       "      <td>861</td>\n",
       "    </tr>\n",
       "    <tr>\n",
       "      <td>Narni</td>\n",
       "      <td>Umbria, Italy</td>\n",
       "      <td>921</td>\n",
       "    </tr>\n",
       "    <tr>\n",
       "      <td>Elbogen</td>\n",
       "      <td>Karlovarsk, Czech Republic</td>\n",
       "      <td>1400</td>\n",
       "    </tr>\n",
       "    <tr>\n",
       "      <td>Rivolta de Bassi</td>\n",
       "      <td>Lombardia, Italy</td>\n",
       "      <td>1491</td>\n",
       "    </tr>\n",
       "    <tr>\n",
       "      <td>Ensisheim</td>\n",
       "      <td>Alsace, France</td>\n",
       "      <td>1492</td>\n",
       "    </tr>\n",
       "    <tr>\n",
       "      <td>Valdinoce</td>\n",
       "      <td>Emilia-Romagna, Italy</td>\n",
       "      <td>1496</td>\n",
       "    </tr>\n",
       "    <tr>\n",
       "      <td>Oliva-Gandia</td>\n",
       "      <td>Valenciana, Spain</td>\n",
       "      <td>1520</td>\n",
       "    </tr>\n",
       "  </tbody>\n",
       "</table>"
      ],
      "text/plain": [
       "<IPython.core.display.HTML object>"
      ]
     },
     "execution_count": 15,
     "metadata": {},
     "output_type": "execute_result"
    }
   ],
   "source": [
    "HTML(top10_met_age.to_html(index=False))"
   ]
  },
  {
   "cell_type": "markdown",
   "id": "0301b957",
   "metadata": {},
   "source": [
    "Kot bi lahko predvidevali, nam tabela razkrije, da meteoritov iz tisoč ali več let nazaj ni veliko, saj takrat teh dogodkov niso bili sposobni beležiti tako kot danes.\n",
    "Vselej pa najdemo kar tri meteorite iz časa pred našim štetjem in kar pet pred letom 1000.\n",
    "\n",
    "Tabela desetih najstarejših kraterjev, s krajem in starostjo:"
   ]
  },
  {
   "cell_type": "code",
   "execution_count": 16,
   "id": "e73bc7ee",
   "metadata": {},
   "outputs": [
    {
     "data": {
      "text/html": [
       "<table border=\"1\" class=\"dataframe\">\n",
       "  <thead>\n",
       "    <tr style=\"text-align: right;\">\n",
       "      <th>Name</th>\n",
       "      <th>Place</th>\n",
       "      <th>Age</th>\n",
       "    </tr>\n",
       "  </thead>\n",
       "  <tbody>\n",
       "    <tr>\n",
       "      <td>Avak</td>\n",
       "      <td>Alaska, USA</td>\n",
       "      <td>34.8 milijard let</td>\n",
       "    </tr>\n",
       "    <tr>\n",
       "      <td>Suavjrvi</td>\n",
       "      <td>Respublika Kareliya, Russia</td>\n",
       "      <td>2.4 milijard let</td>\n",
       "    </tr>\n",
       "    <tr>\n",
       "      <td>Vredefort</td>\n",
       "      <td>Free State, South Africa</td>\n",
       "      <td>2.0 milijard let</td>\n",
       "    </tr>\n",
       "    <tr>\n",
       "      <td>Yarrabubba</td>\n",
       "      <td>Western Australia, Australia</td>\n",
       "      <td>2.0 milijard let</td>\n",
       "    </tr>\n",
       "    <tr>\n",
       "      <td>Sudbury</td>\n",
       "      <td>Ontario, Canada</td>\n",
       "      <td>1.9 milijard let</td>\n",
       "    </tr>\n",
       "    <tr>\n",
       "      <td>Paasselk</td>\n",
       "      <td>Mikkeli, Finland</td>\n",
       "      <td>1.8 milijard let</td>\n",
       "    </tr>\n",
       "    <tr>\n",
       "      <td>Keurusselk</td>\n",
       "      <td>Hame, Finland</td>\n",
       "      <td>1.8 milijard let</td>\n",
       "    </tr>\n",
       "    <tr>\n",
       "      <td>Dhala</td>\n",
       "      <td>Madhya Pradesh, India</td>\n",
       "      <td>1.7 milijard let</td>\n",
       "    </tr>\n",
       "    <tr>\n",
       "      <td>Amelia Creek</td>\n",
       "      <td>Northern Territory, Australia</td>\n",
       "      <td>1.6 milijard let</td>\n",
       "    </tr>\n",
       "    <tr>\n",
       "      <td>Shoemaker</td>\n",
       "      <td>Western Australia, Australia</td>\n",
       "      <td>1.6 milijard let</td>\n",
       "    </tr>\n",
       "  </tbody>\n",
       "</table>"
      ],
      "text/plain": [
       "<IPython.core.display.HTML object>"
      ]
     },
     "execution_count": 16,
     "metadata": {},
     "output_type": "execute_result"
    }
   ],
   "source": [
    "HTML(top10_crt_age.to_html(index=False))"
   ]
  },
  {
   "cell_type": "markdown",
   "id": "6bd85c35",
   "metadata": {},
   "source": [
    "V tabeli očitno odstopa \"najstarejši\" krater med vsemi, saj je starejši od vesolja samega.\n",
    "Potrdimo lahko, da je to napaka v podatkovni bazi in ne v naših programih, saj je starost navedena kot 34759 Ma (Ma = mega-annum) ali 34759 milijonov let.\n",
    "\n",
    "Sicer pa lahko vidimo, da imamo kraterje, ki dosegajo starosti do polovice starosti Zemlje."
   ]
  },
  {
   "cell_type": "markdown",
   "id": "c8b80006",
   "metadata": {},
   "source": [
    "#### Deset najpogostejših tipov\n",
    "V tabeli meteoritov dobimo tabelo pojavitev vseh tipov meteorita, ki je že razvrščena po velikosti.\n",
    "Iz tega izberemo vrhnjih deset vrstic, kar bo predstavljalo naših deset najpogostejših tipov meteorita.\n",
    "Tabelo še preoblikujemo tako, da bo prikaz lepši."
   ]
  },
  {
   "cell_type": "code",
   "execution_count": 17,
   "id": "1618ac1b",
   "metadata": {},
   "outputs": [],
   "source": [
    "top10_types = met_df[\"Type\"].value_counts().head(10)\n",
    "top10_types = top10_types.to_frame(name=\"Occurances\").reset_index()"
   ]
  },
  {
   "cell_type": "markdown",
   "id": "cc955bea",
   "metadata": {},
   "source": [
    "Legenda tipov meteoritov, ki so našteti v tabeli (več na: https://en.wikipedia.org/wiki/Chondrite):\n",
    "* LL\\<št.\\> - skupina \"low-iron, low-metal\"\n",
    "* L\\<št.\\> - skupina \"low-iron\"\n",
    "* H\\<št.\\> - skupina \"high-iron\"\n",
    "* \\<št.\\> - stopnja homogenosti meteorita\n",
    "\n",
    "Tabela desetih najpogostejših tipov meteoritov:"
   ]
  },
  {
   "cell_type": "code",
   "execution_count": 18,
   "id": "fd13588e",
   "metadata": {},
   "outputs": [
    {
     "data": {
      "text/html": [
       "<table border=\"1\" class=\"dataframe\">\n",
       "  <thead>\n",
       "    <tr style=\"text-align: right;\">\n",
       "      <th>Type</th>\n",
       "      <th>Occurances</th>\n",
       "    </tr>\n",
       "  </thead>\n",
       "  <tbody>\n",
       "    <tr>\n",
       "      <td>L6</td>\n",
       "      <td>12995</td>\n",
       "    </tr>\n",
       "    <tr>\n",
       "      <td>H5</td>\n",
       "      <td>11988</td>\n",
       "    </tr>\n",
       "    <tr>\n",
       "      <td>L5</td>\n",
       "      <td>8963</td>\n",
       "    </tr>\n",
       "    <tr>\n",
       "      <td>H6</td>\n",
       "      <td>6996</td>\n",
       "    </tr>\n",
       "    <tr>\n",
       "      <td>H4</td>\n",
       "      <td>6548</td>\n",
       "    </tr>\n",
       "    <tr>\n",
       "      <td>LL5</td>\n",
       "      <td>3312</td>\n",
       "    </tr>\n",
       "    <tr>\n",
       "      <td>LL6</td>\n",
       "      <td>2949</td>\n",
       "    </tr>\n",
       "    <tr>\n",
       "      <td>L4</td>\n",
       "      <td>2102</td>\n",
       "    </tr>\n",
       "    <tr>\n",
       "      <td>L3</td>\n",
       "      <td>859</td>\n",
       "    </tr>\n",
       "    <tr>\n",
       "      <td>H3</td>\n",
       "      <td>716</td>\n",
       "    </tr>\n",
       "  </tbody>\n",
       "</table>"
      ],
      "text/plain": [
       "<IPython.core.display.HTML object>"
      ]
     },
     "execution_count": 18,
     "metadata": {},
     "output_type": "execute_result"
    }
   ],
   "source": [
    "HTML(top10_types.to_html(index=False))"
   ]
  },
  {
   "cell_type": "markdown",
   "id": "104195cd",
   "metadata": {},
   "source": [
    "#### Deset najpogostejših let padca\n",
    "V tabeli meteoritov dobimo tabelo pojavitev vseh let, ki je že razvrščena po velikosti.\n",
    "Iz tega izberemo vrhnjih deset vrstic, kar bo predstavljalo naših deset najpogostejših let padca.\n",
    "Tabelo še preoblikujemo tako, da bo prikaz lepši."
   ]
  },
  {
   "cell_type": "code",
   "execution_count": 19,
   "id": "3404c58d",
   "metadata": {},
   "outputs": [],
   "source": [
    "top10_years = met_df[\"Year\"].value_counts().head(10)\n",
    "top10_years = top10_years.to_frame(name=\"Amount\").reset_index()"
   ]
  },
  {
   "cell_type": "markdown",
   "id": "4cb9c04f",
   "metadata": {},
   "source": [
    "Tabela desetih let z največ meteoriti:"
   ]
  },
  {
   "cell_type": "code",
   "execution_count": 20,
   "id": "c7de71cb",
   "metadata": {},
   "outputs": [
    {
     "data": {
      "text/html": [
       "<table border=\"1\" class=\"dataframe\">\n",
       "  <thead>\n",
       "    <tr style=\"text-align: right;\">\n",
       "      <th>Year</th>\n",
       "      <th>Amount</th>\n",
       "    </tr>\n",
       "  </thead>\n",
       "  <tbody>\n",
       "    <tr>\n",
       "      <td>2000</td>\n",
       "      <td>4669</td>\n",
       "    </tr>\n",
       "    <tr>\n",
       "      <td>2003</td>\n",
       "      <td>4138</td>\n",
       "    </tr>\n",
       "    <tr>\n",
       "      <td>1998</td>\n",
       "      <td>4075</td>\n",
       "    </tr>\n",
       "    <tr>\n",
       "      <td>2010</td>\n",
       "      <td>4036</td>\n",
       "    </tr>\n",
       "    <tr>\n",
       "      <td>1979</td>\n",
       "      <td>3335</td>\n",
       "    </tr>\n",
       "    <tr>\n",
       "      <td>2006</td>\n",
       "      <td>3170</td>\n",
       "    </tr>\n",
       "    <tr>\n",
       "      <td>2009</td>\n",
       "      <td>2442</td>\n",
       "    </tr>\n",
       "    <tr>\n",
       "      <td>1988</td>\n",
       "      <td>2402</td>\n",
       "    </tr>\n",
       "    <tr>\n",
       "      <td>2002</td>\n",
       "      <td>2151</td>\n",
       "    </tr>\n",
       "    <tr>\n",
       "      <td>2014</td>\n",
       "      <td>2136</td>\n",
       "    </tr>\n",
       "  </tbody>\n",
       "</table>"
      ],
      "text/plain": [
       "<IPython.core.display.HTML object>"
      ]
     },
     "execution_count": 20,
     "metadata": {},
     "output_type": "execute_result"
    }
   ],
   "source": [
    "HTML(top10_years.to_html(index=False))"
   ]
  },
  {
   "cell_type": "markdown",
   "id": "5b77eca9",
   "metadata": {},
   "source": [
    "Vidimo, da število meteoritov narašča skoraj naključno z naključnimi leti.\n",
    "Predvidevali bi lahko, da bodo imela poznejša leta več meteoritov zaradi boljših merskih sposobnosti, vendar so leta na seznamu povsem naključna in nobeno od njih ni v zadnjem desetletju."
   ]
  },
  {
   "cell_type": "markdown",
   "id": "ac18fd3f",
   "metadata": {},
   "source": [
    "## Grafični prikazi\n",
    "Pogledali bomo povezave med različnimi spremenljivkami z uporabo grafov."
   ]
  },
  {
   "cell_type": "markdown",
   "id": "88772412",
   "metadata": {},
   "source": [
    "#### Meteoriti skozi čas\n",
    "Poskusimo narisati grafe števila meteoritov skozi zgodovino."
   ]
  },
  {
   "cell_type": "markdown",
   "id": "288e0770",
   "metadata": {},
   "source": [
    "Graf števila padlih meteoritov v desetletju od leta 1700 dalje:"
   ]
  },
  {
   "cell_type": "code",
   "execution_count": 59,
   "id": "f4bcbb57",
   "metadata": {},
   "outputs": [
    {
     "data": {
      "text/plain": [
       "<Axes: xlabel='Year', ylabel='Amount'>"
      ]
     },
     "execution_count": 59,
     "metadata": {},
     "output_type": "execute_result"
    },
    {
     "data": {
      "image/png": "[encoded data removed]",
      "text/plain": [
       "<Figure size 640x480 with 1 Axes>"
      ]
     },
     "metadata": {},
     "output_type": "display_data"
    }
   ],
   "source": [
    "((met_df[met_df[\"Year\"] > 1800][\"Year\"]//10)*10).value_counts().sort_index().plot.bar(ylabel=\"Amount\")"
   ]
  },
  {
   "cell_type": "markdown",
   "id": "b505637f",
   "metadata": {},
   "source": [
    "Očitno je, da so skoraj vsi meteoriti v podatkovni bazi iz zadnjih 50 let, zato moramo časovno obdobje skrajšati, da dobimo boljšo predstavo.\n",
    "\n",
    "Graf števila padlih meteoritov v desetletju od leta 1950 dalje:"
   ]
  },
  {
   "cell_type": "code",
   "execution_count": 57,
   "id": "4cb7123c",
   "metadata": {},
   "outputs": [
    {
     "data": {
      "text/plain": [
       "<Axes: xlabel='Year', ylabel='Amount'>"
      ]
     },
     "execution_count": 57,
     "metadata": {},
     "output_type": "execute_result"
    },
    {
     "data": {
      "image/png": "[encoded data removed]",
      "text/plain": [
       "<Figure size 640x480 with 1 Axes>"
      ]
     },
     "metadata": {},
     "output_type": "display_data"
    }
   ],
   "source": [
    "((met_df[met_df[\"Year\"] > 1950][\"Year\"]//10)*10).value_counts().sort_index().plot.bar(ylabel=\"Amount\")"
   ]
  },
  {
   "cell_type": "markdown",
   "id": "a589b210",
   "metadata": {},
   "source": [
    "Graf števila padlih meteoritov v letu od leta 1950 dalje:"
   ]
  },
  {
   "cell_type": "code",
   "execution_count": 58,
   "id": "225778af",
   "metadata": {
    "scrolled": false
   },
   "outputs": [
    {
     "data": {
      "text/plain": [
       "<Axes: xlabel='Year', ylabel='Amount'>"
      ]
     },
     "execution_count": 58,
     "metadata": {},
     "output_type": "execute_result"
    },
    {
     "data": {
      "image/png": "[encoded data removed]",
      "text/plain": [
       "<Figure size 640x480 with 1 Axes>"
      ]
     },
     "metadata": {},
     "output_type": "display_data"
    }
   ],
   "source": [
    "met_df[met_df[\"Year\"] > 1950][\"Year\"].value_counts().sort_index().plot(ylabel=\"Amount\")"
   ]
  },
  {
   "cell_type": "markdown",
   "id": "05676530",
   "metadata": {},
   "source": [
    "Podatki delujejo zelo naključni, z zelo velikimi skoki in padci iz leta v leto.\n",
    "To bi lahko bila posledica, da ob prodoru meteorja v atmosfero ta ponavadi razpade na več manjših.\n",
    "Torej bi lahko ob padcu velikega meteorita, ki se razbije na tisoče delov graf močno poskočil."
   ]
  }
 ],
 "metadata": {
  "kernelspec": {
   "display_name": "Python 3 (ipykernel)",
   "language": "python",
   "name": "python3"
  },
  "language_info": {
   "codemirror_mode": {
    "name": "ipython",
    "version": 3
   },
   "file_extension": ".py",
   "mimetype": "text/x-python",
   "name": "python",
   "nbconvert_exporter": "python",
   "pygments_lexer": "ipython3",
   "version": "3.12.4"
  }
 },
 "nbformat": 4,
 "nbformat_minor": 5
}
